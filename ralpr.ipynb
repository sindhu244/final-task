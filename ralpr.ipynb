{
  "nbformat": 4,
  "nbformat_minor": 0,
  "metadata": {
    "colab": {
      "provenance": [],
      "authorship_tag": "ABX9TyPyYzXGIkg59Titj2Ubj6F1",
      "include_colab_link": true
    },
    "kernelspec": {
      "name": "python3",
      "display_name": "Python 3"
    },
    "language_info": {
      "name": "python"
    }
  },
  "cells": [
    {
      "cell_type": "markdown",
      "metadata": {
        "id": "view-in-github",
        "colab_type": "text"
      },
      "source": [
        "<a href=\"https://colab.research.google.com/github/sindhu244/final-task/blob/main/ralpr.ipynb\" target=\"_parent\"><img src=\"https://colab.research.google.com/assets/colab-badge.svg\" alt=\"Open In Colab\"/></a>"
      ]
    },
    {
      "cell_type": "code",
      "execution_count": 1,
      "metadata": {
        "id": "Wajhj3U5V3xN"
      },
      "outputs": [],
      "source": [
        "import cv2\n",
        "\n",
        "# Initialize the camera\n",
        "camera = cv2.VideoCapture(0)  # Adjust the index if using an external camera\n",
        "\n",
        "# Main loop for capturing and processing video feed\n",
        "while True:\n",
        "    ret, frame = camera.read()\n",
        "    if not ret:\n",
        "        break\n",
        "\n",
        "    # Convert frame to grayscale\n",
        "    gray_frame = cv2.cvtColor(frame, cv2.COLOR_BGR2GRAY)\n",
        "\n",
        "    # Perform edge detection\n",
        "    edges = cv2.Canny(gray_frame, 100, 200)\n",
        "\n",
        "    # Find contours\n",
        "    contours, _ = cv2.findContours(edges, cv2.RETR_EXTERNAL, cv2.CHAIN_APPROX_SIMPLE)\n",
        "\n",
        "    # Process the contours\n",
        "    for contour in contours:\n",
        "        area = cv2.contourArea(contour)\n",
        "        if area > 1000:  # Adjust threshold as needed\n",
        "            # Get bounding box coordinates\n",
        "            x, y, w, h = cv2.boundingRect(contour)\n",
        "\n",
        "            # Draw a bounding box around the contour\n",
        "            cv2.rectangle(frame, (x, y), (x + w, y + h), (0, 255, 0), 2)\n",
        "\n",
        "            # Crop the license plate region\n",
        "            plate = frame[y:y+h, x:x+w]\n",
        "\n",
        "            # Display the cropped license plate region\n",
        "            cv2.imshow(\"License Plate\", plate)\n",
        "\n",
        "    # Display the frame with detected objects\n",
        "    cv2.imshow(\"License Plate Detection\", frame)\n",
        "\n",
        "    # Exit if 'q' is pressed\n",
        "    if cv2.waitKey(1) & 0xFF == ord('q'):\n",
        "        break\n",
        "\n",
        "# Release the camera and close OpenCV windows\n",
        "camera.release()\n",
        "cv2.destroyAllWindows()\n"
      ]
    }
  ]
}